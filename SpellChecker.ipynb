{
  "nbformat": 4,
  "nbformat_minor": 0,
  "metadata": {
    "colab": {
      "provenance": []
    },
    "kernelspec": {
      "name": "python3",
      "display_name": "Python 3"
    },
    "language_info": {
      "name": "python"
    }
  },
  "cells": [
    {
      "cell_type": "code",
      "execution_count": 30,
      "metadata": {
        "id": "TtLVak9PxRpj"
      },
      "outputs": [],
      "source": [
        "# Class definition for SpellChecker\n",
        "class SpellChecker:\n",
        "    def __init__(self, filename):\n",
        "        # Initialize the object with the filename\n",
        "        self.file = filename\n",
        "\n",
        "        # Read the dictionary file and split lines to get words\n",
        "        file1 = open(filename, 'r+', errors='ignore')\n",
        "        w = file1.read().splitlines()\n",
        "        file1.close()\n",
        "\n",
        "        # Initialize an empty dictionary to store words starting with each alphabet\n",
        "        self.d = {}\n",
        "        i = 'a'\n",
        "        while i <= 'z':\n",
        "            self.d[i] = []\n",
        "            i = chr(ord(i) + 1)\n",
        "\n",
        "        # Store words in the dictionary based on their starting alphabet\n",
        "        for i in w:\n",
        "            self.d[i[0]].append(i)\n",
        "\n",
        "        # Sort the lists of words for each alphabet in lexicographic order\n",
        "        for i in self.d.values():\n",
        "            i.sort()\n",
        "\n",
        "    def find(self, s):\n",
        "        # Find the list of words in the dictionary that start with the first letter of the input word\n",
        "        l = self.d[s[0]]\n",
        "\n",
        "        # Search for the exact match of the input word in the list\n",
        "        for i in range(len(l)):\n",
        "            if l[i] == s:\n",
        "                return l[i]\n",
        "\n",
        "        c = 0\n",
        "        # Search for the nearest 4 words to the input word based on lexicographic order\n",
        "        for i in range(len(l)):\n",
        "            minl = min(len(l[i]), len(s))\n",
        "            if c >= minl:\n",
        "                c = minl - 1\n",
        "                if s[c] < l[i][c] or (s[c] == l[i][c] and c == len(s) - 1):\n",
        "                    r = []\n",
        "                    # Add two words before and after the word in the dictionary to the result list\n",
        "                    if i - 2 < 0:\n",
        "                        r.append(self.d[chr(ord(s[0]) - 1)][i])\n",
        "                    else:\n",
        "                        r.append(l[i - 2])\n",
        "\n",
        "                    if i - 1 < 0:\n",
        "                        r.append(self.d[chr(ord(s[0]) - 1)][i])\n",
        "                    else:\n",
        "                        r.append(l[i - 1])\n",
        "\n",
        "                    r.append(l[i])\n",
        "                    r.append(l[i + 1])\n",
        "\n",
        "                    return r\n",
        "            else:\n",
        "                while c < minl:\n",
        "                    if s[c] > l[i][c]:\n",
        "                        break\n",
        "                    if s[c] < l[i][c] or (s[c] == l[i][c] and c == len(s) - 1):\n",
        "                        r = []\n",
        "                        # Add two words before and after the word in the dictionary to the result list\n",
        "                        if i - 2 < 0:\n",
        "                            r.append(self.d[chr(ord(s[0]) - 1)][i])\n",
        "                        else:\n",
        "                            r.append(l[i - 2])\n",
        "\n",
        "                        if i - 1 < 0:\n",
        "                            r.append(self.d[chr(ord(s[0]) - 1)][i])\n",
        "                        else:\n",
        "                            r.append(l[i - 1])\n",
        "\n",
        "                        r.append(l[i])\n",
        "                        r.append(l[i + 1])\n",
        "\n",
        "                        return r\n",
        "\n",
        "                    if c == minl - 1:\n",
        "                        break\n",
        "                    c = c + 1\n",
        "\n",
        "        # If the input word is not found in the dictionary, return the two words before and after the first alphabet of the input word\n",
        "        return [l[i - 2], l[i - 1], l[i], self.d[chr(ord(s[0]) + 1)][0]]\n",
        "\n",
        "    def addword(self, s):\n",
        "        # Open the file and append the new word to it\n",
        "        with open(self.file, 'a') as file:\n",
        "            file.write('\\n' + s)\n",
        "\n",
        "        # Add the new word to the appropriate list in the dictionary and sort the list\n",
        "        self.d[s[0]].append(s)\n",
        "        self.d[s[0]].sort()\n",
        "\n",
        "    def getdictionary(self):\n",
        "        # Return the complete dictionary\n",
        "        return self.d\n"
      ]
    },
    {
      "cell_type": "code",
      "source": [
        "# Creating an instance of SpellChecker with the provided dictionary file 'dictionary.txt' - run it once !\n",
        "myspellchecker = SpellChecker('dictionary.txt')"
      ],
      "metadata": {
        "id": "e3tezMLKBSDB"
      },
      "execution_count": 32,
      "outputs": []
    },
    {
      "cell_type": "code",
      "source": [
        "# Taking an input word and finding the nearest 4 words in the dictionary\n",
        "s = str(input('Word to find: '))\n",
        "nearest_words = myspellchecker.find(s)\n",
        "print(\"Nearest 4 words to '{}':\".format(s), nearest_words)"
      ],
      "metadata": {
        "id": "6HxHnRNbxT5o"
      },
      "execution_count": null,
      "outputs": []
    },
    {
      "cell_type": "code",
      "source": [
        "# Taking an input word and adding it to the dictionary\n",
        "s = str(input('Word to add: '))\n",
        "myspellchecker.addword(s)\n",
        "print(\"Word '{}' added to the dictionary.\".format(s))"
      ],
      "metadata": {
        "colab": {
          "base_uri": "https://localhost:8080/"
        },
        "id": "wSjDmwDhAyyt",
        "outputId": "c187f024-ef76-4831-9197-09abaca16fec"
      },
      "execution_count": 34,
      "outputs": [
        {
          "output_type": "stream",
          "name": "stdout",
          "text": [
            "Word to add: aaaa\n",
            "Word 'aaaa' added to the dictionary.\n"
          ]
        }
      ]
    }
  ]
}